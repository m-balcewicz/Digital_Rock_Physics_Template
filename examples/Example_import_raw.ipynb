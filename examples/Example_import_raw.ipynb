{
 "cells": [
  {
   "cell_type": "code",
   "execution_count": null,
   "metadata": {},
   "outputs": [],
   "source": [
    "from drp_template.input_output import import_model\n",
    "from drp_template.image import ortho_slice, ortho_views\n",
    "from drp_template.math import label_binary, get_phase_fractions\n",
    "from drp_template.default_params import update_parameters_file"
   ]
  },
  {
   "cell_type": "code",
   "execution_count": null,
   "metadata": {},
   "outputs": [],
   "source": [
    "file_path = '../examples/data/pore_100_100_400.raw'\n",
    "dimensions = {'nz': 400, 'ny': 100, 'nx': 100}\n",
    "data = import_model(file_path=file_path, dtype='uint8', dimensions=dimensions)"
   ]
  },
  {
   "cell_type": "code",
   "execution_count": null,
   "metadata": {},
   "outputs": [],
   "source": [
    "# Get the shape of the data\n",
    "print(f\"Data shape: {data.shape}\")"
   ]
  },
  {
   "cell_type": "code",
   "execution_count": null,
   "metadata": {},
   "outputs": [],
   "source": [
    "parfile='../output/pore_100_100_400.json'\n",
    "ortho_slice(data, parfile)"
   ]
  },
  {
   "cell_type": "code",
   "execution_count": null,
   "metadata": {},
   "outputs": [],
   "source": [
    "ortho_views(data, slice_indices={'slice_xy': 10, 'slice_yz': 40, 'slice_xz': 80}, dark_mode=False, voxel_size=None)"
   ]
  }
 ],
 "metadata": {
  "kernelspec": {
   "display_name": "dev_DRP",
   "language": "python",
   "name": "python3"
  },
  "language_info": {
   "codemirror_mode": {
    "name": "ipython",
    "version": 3
   },
   "file_extension": ".py",
   "mimetype": "text/x-python",
   "name": "python",
   "nbconvert_exporter": "python",
   "pygments_lexer": "ipython3",
   "version": "3.11.6"
  }
 },
 "nbformat": 4,
 "nbformat_minor": 2
}
