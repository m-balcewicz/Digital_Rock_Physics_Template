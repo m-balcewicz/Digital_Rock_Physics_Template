{
 "cells": [
  {
   "cell_type": "code",
   "execution_count": 2,
   "metadata": {},
   "outputs": [
    {
     "name": "stdout",
     "output_type": "stream",
     "text": [
      "f_Rock: [0.2 0.3 0.3 0.1 0.1] | 1.0\n",
      "f_Solid: [0.3 0.3 0.1 0.1] | 0.7999999999999999\n",
      "f_Solid_normalized: [0.375 0.375 0.125 0.125] | 1.0\n",
      "rho_Mix: 2677.5\n",
      "k_voigt: 50.400028400000004\n",
      "u_voigt: 28.7\n",
      "k_reuss: 0.0007099925889229727\n",
      "u_reuss: 0.0\n"
     ]
    },
    {
     "name": "stderr",
     "output_type": "stream",
     "text": [
      "/var/folders/jl/thv6zrvj5jv3y5xmtmbs6g0m0000gn/T/ipykernel_6036/1356072465.py:66: RuntimeWarning: divide by zero encountered in divide\n",
      "  u_reuss = 1 / np.sum(f_Rock / u)  # Reuss (lower) bound\n"
     ]
    }
   ],
   "source": [
    "import numpy as np\n",
    "from drp_template.math import bound, GPa2Pa, Pa2GPa, density_solid_mix\n",
    "from drp_template.image import plot_effective_modulus\n",
    "\n",
    "# The the constants\n",
    "phase = ('Pore', 'Quartz', 'Feldspar', 'Dolomite', 'Calcite')\n",
    "\n",
    "K_Pore = 0.000142\n",
    "K_Quartz = 36\n",
    "K_Feldspar = 75\n",
    "K_Dolomite = 95\n",
    "K_Calcite = 76\n",
    "\n",
    "U_Pore = 0\n",
    "U_Quartz = 45\n",
    "U_Feldspar = 25\n",
    "U_Dolomite = 45\n",
    "U_Calcite = 32\n",
    "\n",
    "# Define the range of porosity values to calculate\n",
    "f_Pore = 0.2\n",
    "# f_Pore = np.linspace(0, 1, 100)\n",
    "\n",
    "f_Quartz = 0.3\n",
    "f_Feldspar = 0.3\n",
    "f_Dolomite = 0.1\n",
    "f_Calcite = 0.1\n",
    "\n",
    "rho_Quartz = 2650\n",
    "rho_Feldspar = 2630\n",
    "rho_Dolomite = 2870\n",
    "rho_Calcite = 2710\n",
    "\n",
    "f_Rock = np.array([f_Pore, f_Quartz, f_Feldspar, f_Dolomite, f_Calcite])\n",
    "print(f\"f_Rock: {f_Rock} | {np.sum(f_Rock)}\")\n",
    "\n",
    "f_Solid = np.array([f_Quartz, f_Feldspar, f_Dolomite, f_Calcite])\n",
    "f_Solid_total = np.sum(f_Solid)\n",
    "print(f\"f_Solid: {f_Solid} | {np.sum(f_Solid_total)}\")\n",
    "\n",
    "f_Solid_norm = f_Solid/f_Solid_total\n",
    "print(f\"f_Solid_normalized: {f_Solid_norm} | {np.sum(f_Solid_norm)}\")\n",
    "\n",
    "\n",
    "rho_Solid = np.array([rho_Quartz, rho_Feldspar, rho_Dolomite, rho_Calcite])\n",
    "\n",
    "k = np.array([K_Pore, K_Quartz, K_Feldspar, K_Dolomite, K_Calcite])\n",
    "u = np.array([U_Pore, U_Quartz, U_Feldspar, U_Dolomite, U_Calcite])\n",
    "\n",
    "rho_Mix = density_solid_mix(f_solid=f_Solid_norm, rho_solid=rho_Solid)\n",
    "print(f\"rho_Mix: {rho_Mix}\")\n",
    "\n",
    "if len(f_Rock) != len(k) != len(u):\n",
    "        raise ValueError('Input fractions, k, and u must have the same length')\n",
    "    \n",
    "# if not np.isclose(np.sum(f_Rock), 1):\n",
    "if not np.sum(f_Rock) == 1:\n",
    "    print(f\"sum f_Rock: {np.sum(f_Rock)}\")\n",
    "    raise ValueError('Fractions must sum up to 1')\n",
    "\n",
    "c = 4 / 3\n",
    "\n",
    "k_voigt = np.sum(f_Rock * k)  # Voigt (upper) bound\n",
    "u_voigt = np.sum(f_Rock * u)  # Voigt (upper) bound\n",
    "k_reuss = 1 / np.sum(f_Rock / k)  # Reuss (lower) bound\n",
    "u_reuss = 1 / np.sum(f_Rock / u)  # Reuss (lower) bound\n",
    "\n",
    "print(f\"k_voigt: {k_voigt}\")\n",
    "print(f\"u_voigt: {u_voigt}\")\n",
    "print(f\"k_reuss: {k_reuss}\")\n",
    "print(f\"u_reuss: {u_reuss}\")\n",
    "\n",
    "\n"
   ]
  },
  {
   "cell_type": "code",
   "execution_count": null,
   "metadata": {},
   "outputs": [],
   "source": [
    "# Assuming f_Solid has more than 15 digits of precision\n",
    "f_Solid = 0.1234567890123456789012345678901234567890123456789012345678901234567890\n",
    "\n",
    "# Round to 15 decimal places\n",
    "f_Solid_rounded = round(f_Solid, 15)\n",
    "\n",
    "print(f_Solid_rounded)"
   ]
  },
  {
   "cell_type": "code",
   "execution_count": null,
   "metadata": {},
   "outputs": [],
   "source": [
    "from decimal import Decimal, getcontext\n",
    "import numpy as np\n",
    "\n",
    "# Set the precision of Decimal\n",
    "getcontext().prec = 28  # Adjust the precision as needed\n",
    "\n",
    "# Coefficients as Decimal\n",
    "f_Quartz = Decimal('0.3')\n",
    "f_Feldspar = Decimal('0.3')\n",
    "f_Dolomite = Decimal('0.1')\n",
    "f_Calcite = Decimal('0.1')\n",
    "\n",
    "# Calculate the sum with Decimal precision\n",
    "f_Solid_decimal = np.sum(np.array([f_Quartz, f_Feldspar, f_Dolomite, f_Calcite], dtype=object))\n",
    "\n",
    "print(f\"f_SOLID (Decimal): {f_Solid_decimal}\")\n"
   ]
  },
  {
   "cell_type": "code",
   "execution_count": null,
   "metadata": {},
   "outputs": [],
   "source": [
    "from decimal import Decimal, getcontext\n",
    "\n",
    "# Set the precision of Decimal\n",
    "getcontext().prec = 28  # Adjust the precision as needed\n",
    "\n",
    "a = 0.3\n",
    "\n",
    "a_dec = Decimal(str(a))\n",
    "b_dec = Decimal('0.3')\n",
    "c_dec = Decimal('0.1')\n",
    "d_dec = Decimal('0.1')\n",
    "\n",
    "print(f\"a_type: {type(a)}\")\n",
    "print(f\"a_type: {type(a_dec)}\")\n",
    "\n",
    "result = a_dec+b_dec+c_dec+d_dec\n",
    "\n",
    "print(result)\n",
    "print(round(result, 15))"
   ]
  },
  {
   "cell_type": "code",
   "execution_count": null,
   "metadata": {},
   "outputs": [],
   "source": []
  }
 ],
 "metadata": {
  "kernelspec": {
   "display_name": "Digital_Rock_Physics",
   "language": "python",
   "name": "python3"
  },
  "language_info": {
   "codemirror_mode": {
    "name": "ipython",
    "version": 3
   },
   "file_extension": ".py",
   "mimetype": "text/x-python",
   "name": "python",
   "nbconvert_exporter": "python",
   "pygments_lexer": "ipython3",
   "version": "3.11.6"
  }
 },
 "nbformat": 4,
 "nbformat_minor": 2
}
