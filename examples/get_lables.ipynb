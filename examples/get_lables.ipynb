{
 "cells": [
  {
   "cell_type": "code",
   "execution_count": null,
   "metadata": {},
   "outputs": [],
   "source": [
    "import drp_template.input_output as io\n",
    "from drp_template.image import save_figure2, plot_slice\n",
    "from drp_template.math import label_binary, get_phase_fractions"
   ]
  },
  {
   "cell_type": "code",
   "execution_count": null,
   "metadata": {},
   "outputs": [],
   "source": [
    "file_path = '../examples/data/pore_100_100_400.raw'\n",
    "dimensions = {'nz': 400, 'ny': 100, 'nx': 100}\n",
    "data = io.import_model(file_path=file_path, dtype='uint8', dimensions=dimensions)"
   ]
  },
  {
   "cell_type": "code",
   "execution_count": null,
   "metadata": {},
   "outputs": [],
   "source": [
    "labels = label_binary(data, paramsfile='pore_100_100_400.json')"
   ]
  },
  {
   "cell_type": "code",
   "execution_count": null,
   "metadata": {},
   "outputs": [],
   "source": [
    "fractions = get_phase_fractions(data, labels=labels, filename='labeled_binray')"
   ]
  },
  {
   "cell_type": "code",
   "execution_count": null,
   "metadata": {},
   "outputs": [],
   "source": [
    "fig, ax = plot_slice(data=data, plane='xy', paramsfile='pore_100_100_400.json', labels=labels, title='labeled binary')\n",
    "save_figure2(fig, filename='labeled_binray')"
   ]
  }
 ],
 "metadata": {
  "kernelspec": {
   "display_name": "Digital_Rock_Physics",
   "language": "python",
   "name": "python3"
  },
  "language_info": {
   "codemirror_mode": {
    "name": "ipython",
    "version": 3
   },
   "file_extension": ".py",
   "mimetype": "text/x-python",
   "name": "python",
   "nbconvert_exporter": "python",
   "pygments_lexer": "ipython3",
   "version": "3.11.6"
  }
 },
 "nbformat": 4,
 "nbformat_minor": 2
}
