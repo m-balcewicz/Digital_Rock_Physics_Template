{
 "cells": [
  {
   "cell_type": "markdown",
   "metadata": {},
   "source": [
    "# Get started with 3D array\n",
    "First load all important modules."
   ]
  },
  {
   "cell_type": "code",
   "execution_count": null,
   "metadata": {},
   "outputs": [],
   "source": [
    "import sys\n",
    "import os\n",
    "import numpy as np\n",
    "import matplotlib.pyplot as plt\n",
    "from matplotlib.ticker import FixedLocator, FixedFormatter\n",
    "from cmcrameri import cm"
   ]
  },
  {
   "cell_type": "markdown",
   "metadata": {},
   "source": [
    "Import all package modules."
   ]
  },
  {
   "cell_type": "code",
   "execution_count": null,
   "metadata": {},
   "outputs": [],
   "source": [
    "# Add the path to the system path\n",
    "sys.path.append('/Users/martin/Library/Mobile Documents/com~apple~CloudDocs/MYDATA/CODING_WORLD/PYTHON_WORLD/Digital_Rock_Physics_Template')\n",
    "\n",
    "import barbara.default_parameters as params\n",
    "from barbara.image import save_figure2, plot_layer\n",
    "import barbara.input_output as io\n",
    "from barbara.default_params import update_parameters_file"
   ]
  },
  {
   "cell_type": "markdown",
   "metadata": {},
   "source": [
    "Set the file path of your 3D array. For the example you can use a provided 2 phase binary."
   ]
  },
  {
   "cell_type": "code",
   "execution_count": null,
   "metadata": {},
   "outputs": [],
   "source": [
    "file_path = 'pore_100_100_400.raw'"
   ]
  },
  {
   "cell_type": "markdown",
   "metadata": {},
   "source": [
    "Each 3D.raw must be imported based on it's corresponding parameters like dimensions (nx, ny, nz) or type (uint8, uint16, uint32). The following data (uint8) is sorted in the shape of `data[nz, ny, nx]`. Due to dimensions rules (see README.md) all arrays must be in the format of `data[nx, ny, nz]`. The programm can handle the conversion on its own based on the provided order of dimensions. Regular as well as irregular data can be imported."
   ]
  },
  {
   "cell_type": "code",
   "execution_count": null,
   "metadata": {},
   "outputs": [],
   "source": [
    "dimensions = {'nz': 400, 'ny': 100, 'nx': 100}\n",
    "data = io.import_model(file_path, dtype='uint8', dimensions=dimensions)"
   ]
  },
  {
   "cell_type": "markdown",
   "metadata": {},
   "source": [
    "In case a subvolume is needed, a corresponding `paramsfile` must be prepared which is always created while importing. "
   ]
  },
  {
   "cell_type": "code",
   "execution_count": null,
   "metadata": {},
   "outputs": [],
   "source": [
    "subvolume = data[:, :, :100] # Create a subvolume\n",
    "subvolume_params = {'dim': 3, 'nx': 100, 'ny': 100, 'nz': 100}\n",
    "update_parameters_file(paramsfile='subvolume_100_100_100.json', **subvolume_params)"
   ]
  },
  {
   "cell_type": "markdown",
   "metadata": {},
   "source": [
    "The binaries can also be enriched with labels like pore, matrix, etc."
   ]
  },
  {
   "cell_type": "code",
   "execution_count": null,
   "metadata": {},
   "outputs": [],
   "source": [
    "labels = ['Pore', 'Matrix'] # Define labels"
   ]
  },
  {
   "cell_type": "markdown",
   "metadata": {},
   "source": [
    "The corresponding plots in xy, yz, and xz plane."
   ]
  },
  {
   "cell_type": "code",
   "execution_count": null,
   "metadata": {},
   "outputs": [],
   "source": [
    "fig_xy, ax = plot_layer(subvolume, paramsfile='subvolume_100_100_100.json', cmap_set=\"gray\", layer=None, plane='xy', subvolume=None, labels=labels, title=\"Layer XY\", voxel_size=2.5, dark_mode=False)\n",
    "fig_yz, ax = plot_layer(subvolume, paramsfile='subvolume_100_100_100.json', cmap_set=\"ocean\", layer=None, plane='yz', subvolume=50, labels=labels, title=\"Layer YZ\", voxel_size=None, dark_mode=True)\n",
    "fig_xz, ax = plot_layer(subvolume, paramsfile='subvolume_100_100_100.json', cmap_set=None, layer=None, plane='xz', subvolume=14.5, labels=labels, title=\"Layer XZ\", voxel_size=2, dark_mode=True)"
   ]
  },
  {
   "cell_type": "markdown",
   "metadata": {},
   "source": [
    "Finally, the figures can be saved in high quality."
   ]
  },
  {
   "cell_type": "code",
   "execution_count": null,
   "metadata": {},
   "outputs": [],
   "source": [
    "save_figure2(fig_xy, filename='subvolume_plane_xy')\n",
    "save_figure2(fig_yz, filename='subvolume_plane_yz')\n",
    "save_figure2(fig_xz, filename='subvolume_plane_xz')"
   ]
  }
 ],
 "metadata": {
  "kernelspec": {
   "display_name": "Digital_Rock_Physics",
   "language": "python",
   "name": "python3"
  },
  "language_info": {
   "codemirror_mode": {
    "name": "ipython",
    "version": 3
   },
   "file_extension": ".py",
   "mimetype": "text/x-python",
   "name": "python",
   "nbconvert_exporter": "python",
   "pygments_lexer": "ipython3",
   "version": "3.11.6"
  }
 },
 "nbformat": 4,
 "nbformat_minor": 2
}
