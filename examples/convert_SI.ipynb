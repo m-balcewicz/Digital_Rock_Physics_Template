{
 "cells": [
  {
   "cell_type": "code",
   "execution_count": null,
   "metadata": {},
   "outputs": [],
   "source": [
    "import numpy as np\n",
    "from drp_template.math import GPa2Pa, Pa2GPa"
   ]
  },
  {
   "cell_type": "code",
   "execution_count": null,
   "metadata": {},
   "outputs": [],
   "source": [
    "# Example usage:\n",
    "gpa_values = np.array([1.5, 2.3, 0.8])\n",
    "pa_values = GPa2Pa(gpa_values)\n",
    "\n",
    "print(\"Original GPa values:\", gpa_values)\n",
    "print(\"Converted Pa values:\", pa_values)"
   ]
  },
  {
   "cell_type": "code",
   "execution_count": null,
   "metadata": {},
   "outputs": [],
   "source": [
    "# Example usage:\n",
    "pa_values = np.array([1.5e9, 2.3e9, 0.8e9])\n",
    "gpa_values = Pa2GPa(pa_values)\n",
    "\n",
    "print(\"Original Pa values:\", pa_values)\n",
    "print(\"Converted GPa values:\", gpa_values)"
   ]
  }
 ],
 "metadata": {
  "kernelspec": {
   "display_name": "Digital_Rock_Physics",
   "language": "python",
   "name": "python3"
  },
  "language_info": {
   "name": "python",
   "version": "3.11.6"
  }
 },
 "nbformat": 4,
 "nbformat_minor": 2
}
