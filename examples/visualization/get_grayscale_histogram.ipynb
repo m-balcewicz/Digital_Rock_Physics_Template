{
 "cells": [
  {
   "cell_type": "markdown",
   "id": "62614bc72f4e346a",
   "metadata": {
    "collapsed": false
   },
   "source": [
    "# Get Gray-Scale Histogram\n",
    "\n",
    "This notebook demonstrates how to:\n",
    "1. Import raw grayscale CT/microCT data\n",
    "2. Generate and visualize histograms of intensity distributions\n",
    "3. Create orthogonal slice views\n",
    "4. Save figures to the output folder\n",
    "\n",
    "## Import Required Modules\n",
    "\n",
    "We'll use the Digital Rock Physics template package to handle data import, visualization, and analysis:"
   ]
  },
  {
   "cell_type": "code",
   "execution_count": null,
   "id": "initial_id",
   "metadata": {
    "collapsed": true
   },
   "outputs": [],
   "source": [
    "import drp_template.input_output as io\n",
    "import drp_template.image as image"
   ]
  },
  {
   "cell_type": "markdown",
   "id": "929f439fa17e4aaf",
   "metadata": {
    "collapsed": false
   },
   "source": [
    "## Load Grayscale Data\n",
    "\n",
    "Set the file path and dimensions for the raw uint16 data file. This example uses a 50³ voxel cube of grayscale CT data.\n",
    "\n",
    "**Parameters:**\n",
    "- `raw_file_path`: Path to the raw binary file containing grayscale intensity values\n",
    "- `dimensions`: Dictionary specifying the 3D dimensions (nz, ny, nx) of the dataset\n",
    "- `dtype`: Data type of the raw file ('uint16' for 16-bit unsigned integer data)"
   ]
  },
  {
   "cell_type": "code",
   "execution_count": null,
   "id": "2d6f81c621982532",
   "metadata": {
    "collapsed": false
   },
   "outputs": [],
   "source": [
    "# Set file paths and dimensions\n",
    "raw_file_path = '../data/data_raw_uint16_50cube.raw'\n",
    "dimensions = {'nz': 50, 'ny': 50, 'nx': 50}\n",
    "\n",
    "# Import the raw data\n",
    "# This will automatically generate a JSON parameter file with the same base name\n",
    "data = io.import_model(file_path=raw_file_path, dtype='uint16', dimensions=dimensions)\n",
    "\n",
    "# The parameter filename follows the naming convention: <base_filename>.json\n",
    "# This file stores metadata about dimensions, data type, and analysis parameters"
   ]
  },
  {
   "cell_type": "markdown",
   "id": "8442b7cf",
   "metadata": {},
   "source": [
    "## Define the Parameter File\n",
    "\n",
    "After importing the data, a JSON parameter file is automatically created. This file stores metadata about your dataset including:\n",
    "- Dimensions (nx, ny, nz)\n",
    "- Data type (uint16, uint8, etc.)\n",
    "- File paths\n",
    "- Analysis parameters (thresholds, labels, etc.)\n",
    "\n",
    "**Naming Convention:** The parameter file automatically takes the same base name as your raw data file:\n",
    "- Raw file: `data_segmented_uint16_50cube.raw`\n",
    "\n",
    "This naming convention ensures that parameter files are easily traceable to their corresponding data files."
   ]
  },
  {
   "cell_type": "code",
   "execution_count": null,
   "id": "05eae3cb",
   "metadata": {},
   "outputs": [],
   "source": [
    "# Define parameter files\n",
    "params_file_raw = 'data_raw_uint16_50cube.json'"
   ]
  },
  {
   "cell_type": "markdown",
   "id": "eedc07f318a9f46",
   "metadata": {
    "collapsed": false
   },
   "source": [
    "## Visualize Histogram and Slice\n",
    "\n",
    "Now we'll create two visualizations:\n",
    "\n",
    "### 1. Histogram Plot\n",
    "Generate a histogram showing the distribution of grayscale intensity values across all voxels. This helps understand:\n",
    "- The range of intensity values in your data\n",
    "- The frequency distribution of different materials/phases\n",
    "- Potential thresholds for segmentation\n",
    "\n",
    "**Parameters:**\n",
    "- `log_scale='y'`: Uses logarithmic scale on y-axis to better visualize the full distribution\n",
    "- `dark_mode=False`: Uses light background for figures\n",
    "- `cmap_set='gray'`: Uses grayscale colormap\n",
    "\n",
    "### 2. Orthogonal Slice View\n",
    "Display a 2D slice through the 3D volume to visualize the spatial distribution of intensities:\n",
    "- `plane='xy'`: Shows the XY plane (horizontal slice)\n",
    "- `slice=None`: Automatically selects the middle slice\n",
    "- `cmap_intensity=1`: Controls the brightness of the colormap"
   ]
  },
  {
   "cell_type": "code",
   "execution_count": null,
   "id": "ad6672f030977fb9",
   "metadata": {
    "collapsed": false
   },
   "outputs": [],
   "source": [
    "fig, ax = image.histogram(data=data, \n",
    "                          paramsfile=params_file_raw, title=None, log_scale='y', dark_mode=False, cmap_set='gray')\n",
    "\n",
    "image.save_figure(fig, filename='figure_grayscale_hist')\n",
    "\n",
    "fig, ax, pcm = image.ortho_slice(data=data,\n",
    "                                 paramsfile=params_file_raw, cmap_set='gray', slice=None, plane='xy', subvolume=None, labels=None, title='slice XY', voxel_size=None, dark_mode=False, cmap_intensity=1, ax=None, show_colorbar=True)\n",
    "\n",
    "image.save_figure(fig, filename='figure_grayscale_slice')"
   ]
  },
  {
   "cell_type": "markdown",
   "id": "74e601db",
   "metadata": {},
   "source": [
    "## Output\n",
    "\n",
    "Both figures are automatically saved to the `output/` folder with the specified filenames:\n",
    "- `figure_grayscale_hist.png`: The histogram plot\n",
    "- `figure_grayscale_slice.png`: The orthogonal slice view\n",
    "\n",
    "You can find these files in your working directory under `output/`."
   ]
  }
 ],
 "metadata": {
  "kernelspec": {
   "display_name": "Digital_Rock_Physics",
   "language": "python",
   "name": "python3"
  },
  "language_info": {
   "codemirror_mode": {
    "name": "ipython",
    "version": 3
   },
   "file_extension": ".py",
   "mimetype": "text/x-python",
   "name": "python",
   "nbconvert_exporter": "python",
   "pygments_lexer": "ipython3",
   "version": "3.11.6"
  }
 },
 "nbformat": 4,
 "nbformat_minor": 5
}
