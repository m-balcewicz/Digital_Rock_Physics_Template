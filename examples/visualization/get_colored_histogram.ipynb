{
 "cells": [
  {
   "cell_type": "markdown",
   "id": "0",
   "metadata": {},
   "source": [
    "# Get Segmented Histogram\n",
    "\n",
    "This notebook demonstrates how to:\n",
    "1. Import raw grayscale CT/microCT data\n",
    "2. Generate and visualize histograms of intensity distributions based on the threshold segmentation.\n",
    "3. Save the colored histogram figure to the output folder\n",
    "\n",
    "## Import Required Modules\n",
    "\n",
    "We'll use the Digital Rock Physics template package to handle data import, visualization, and analysis:"
   ]
  },
  {
   "cell_type": "code",
   "execution_count": null,
   "id": "1",
   "metadata": {},
   "outputs": [],
   "source": [
    "import drp_template.input_output as io\n",
    "import drp_template.image as image\n",
    "import drp_template.default_params as params"
   ]
  },
  {
   "cell_type": "markdown",
   "id": "2",
   "metadata": {},
   "source": [
    "## Load Grayscale Data\n",
    "\n",
    "Set the file path and dimensions for the raw uint16 data file. This example uses a 50³ voxel cube of segmented CT data.\n",
    "\n",
    "**Parameters:**\n",
    "- `raw_file_path`: Path to the raw binary file containing grayscale intensity values\n",
    "- `dimensions`: Dictionary specifying the 3D dimensions (nz, ny, nx) of the dataset\n",
    "- `dtype`: Data type of the raw file ('uint16' for 16-bit unsigned integer data)"
   ]
  },
  {
   "cell_type": "code",
   "execution_count": null,
   "id": "3",
   "metadata": {},
   "outputs": [],
   "source": [
    "# Set file paths and dimensions\n",
    "raw_file_path = '../data/data_raw_uint16_50cube.raw'\n",
    "dimensions = {'nz': 50, 'ny': 50, 'nx': 50}\n",
    "\n",
    "# Import the raw data\n",
    "# This will automatically generate a JSON parameter file with the same base name\n",
    "data = io.import_model(file_path=raw_file_path, dtype='uint16', dimensions=dimensions)\n",
    "\n",
    "# The parameter filename follows the naming convention: <base_filename>.json\n",
    "# This file stores metadata about dimensions, data type, and analysis parameters"
   ]
  },
  {
   "cell_type": "markdown",
   "id": "4",
   "metadata": {},
   "source": [
    "## Define the Parameter File\n",
    "\n",
    "After importing the data, a JSON parameter file is automatically created. This file stores metadata about your dataset including:\n",
    "- Dimensions (nx, ny, nz)\n",
    "- Data type (uint16, uint8, etc.)\n",
    "- File paths\n",
    "- Analysis parameters (thresholds, labels, etc.)\n",
    "\n",
    "**Naming Convention:** The parameter file automatically takes the same base name as your raw data file:\n",
    "- Raw file: `data_segmented_uint16_50cube.raw`\n",
    "\n",
    "This naming convention ensures that parameter files are easily traceable to their corresponding data files."
   ]
  },
  {
   "cell_type": "code",
   "execution_count": null,
   "id": "5",
   "metadata": {},
   "outputs": [],
   "source": [
    "# Define parameter files\n",
    "params_file_raw = 'data_raw_uint16_50cube.json'"
   ]
  },
  {
   "cell_type": "markdown",
   "id": "6",
   "metadata": {},
   "source": [
    "## Define Threshold Ranges for Colored Histogram\n",
    "\n",
    "To visualize the grayscale histogram with color-coded phases, we define threshold ranges that correspond to different material phases. These thresholds represent the grayscale intensity ranges that were used during the segmentation process.\n",
    "\n",
    "**Threshold Dictionary Structure:**\n",
    "- Each key represents a material phase name\n",
    "- Each value is a list `[min_intensity, max_intensity]` defining the grayscale range for that phase\n",
    "\n",
    "**Example Phases:**\n",
    "- **Pore**: Low-density voids (darkest in grayscale images)\n",
    "- **Qtz**: Quartz mineral phase\n",
    "- **Fsp**: Feldspar mineral phase\n",
    "- **Bt**: Biotite mineral phase\n",
    "- **hDensity**: High-density minerals (brightest in grayscale images)\n",
    "\n",
    "The thresholds are saved to the parameter file for documentation and reproducibility."
   ]
  },
  {
   "cell_type": "code",
   "execution_count": null,
   "id": "7",
   "metadata": {},
   "outputs": [],
   "source": [
    "# Define threshold ranges for different material phases\n",
    "thresholds = {\n",
    "    \"Pore\": [0, 4000],\n",
    "    \"Qtz\": [4001, 4550],\n",
    "    \"Fsp\": [4551, 5500],\n",
    "    \"Bt\": [5501, 11000],\n",
    "    \"hDensity\": [11001, 65535]\n",
    "}\n",
    "\n",
    "# Save thresholds to parameter file\n",
    "params.update_parameters_file(paramsfile=params_file_raw, thresholds=thresholds)\n",
    "\n",
    "# Display the defined threshold ranges\n",
    "print(\"Threshold ranges defined:\")\n",
    "for phase, range_vals in thresholds.items():\n",
    "    print(f\"  {phase:10s}: {range_vals[0]:5d} - {range_vals[1]:5d}\")"
   ]
  },
  {
   "cell_type": "markdown",
   "id": "8",
   "metadata": {},
   "source": [
    "## Visualize Colored Histogram\n",
    "\n",
    "Generate a histogram of the grayscale intensity distribution with color-coded regions corresponding to the defined threshold ranges. Each material phase will be displayed in a different color, making it easy to visualize how the grayscale values are distributed across different materials.\n",
    "\n",
    "**Histogram Parameters:**\n",
    "- `data`: The 3D grayscale array to analyze\n",
    "- `thresholds`: Dictionary of phase ranges for color-coding\n",
    "- `paramsfile`: JSON file containing metadata\n",
    "- `log_scale='y'`: Use logarithmic scale on y-axis for better visualization of low-frequency bins\n",
    "\n",
    "**Output:**\n",
    "The histogram will be saved as `figure_colored_hist.png` in the `output/` folder, showing the intensity distribution with each phase highlighted in a distinct color."
   ]
  },
  {
   "cell_type": "code",
   "execution_count": null,
   "id": "9",
   "metadata": {},
   "outputs": [],
   "source": [
    "fig, ax = image.histogram(\n",
    "    data=data,\n",
    "    thresholds=thresholds,\n",
    "    paramsfile=params_file_raw,\n",
    "    dtype=None,\n",
    "    cmap_set=None,\n",
    "    title=None,\n",
    "    log_scale='y',\n",
    "    dark_mode=False,\n",
    "    num_bins=None\n",
    ")\n",
    "\n",
    "image.save_figure(fig, filename='figure_colored_hist')"
   ]
  },
  {
   "cell_type": "markdown",
   "id": "10",
   "metadata": {},
   "source": [
    "## Get the Used Color Codes\n",
    "\n",
    "Extract the color palette from the histogram for documentation, publication, or design purposes. This is particularly useful when you need to:\n",
    "\n",
    "- **Report colors in manuscripts**: Include exact RGB/CMYK values in figure captions\n",
    "- **Reproduce colors in other software**: Use HEX codes in presentations, web pages, or design tools\n",
    "- **Maintain color consistency**: Ensure the same colors across multiple figures or publications\n",
    "- **Print preparation**: Convert RGB colors to CMYK for professional printing\n",
    "\n",
    "The `get_figure_colors()` function distinguishes between:\n",
    "- **Data colors** (colormap colors from the histogram bars) - extracted by default\n",
    "- **Decoration colors** (axes, text, background) - optional for complete figure documentation\n",
    "\n",
    "**Output Formats:**\n",
    "- **RGB**: Values from 0 to 1 (standard for Python/Matplotlib)\n",
    "- **CMYK**: Values from 0 to 100% (standard for print publications)\n",
    "- **HEX**: Format `#RRGGBB` (standard for web design and presentations)"
   ]
  },
  {
   "cell_type": "code",
   "execution_count": null,
   "id": "11",
   "metadata": {},
   "outputs": [],
   "source": [
    "# Extract only colormap/data colors (default behavior)\n",
    "colors = image.get_figure_colors(fig, num_colors=10, data_only=True)\n",
    "\n",
    "# Access data colors in different formats\n",
    "data_rgb = colors['rgb']['data_colors']        # List of RGB tuples (0-1 range)\n",
    "data_cmyk = colors['cmyk']['data_colors']      # List of CMYK tuples (0-100% range)\n",
    "data_hex = colors['hex']['data_colors']        # List of HEX strings\n",
    "\n",
    "print(f\"\\nExtracted {len(data_hex)} colormap colors\")\n",
    "print(\"First 3 HEX codes:\", data_hex[:3])"
   ]
  },
  {
   "cell_type": "code",
   "execution_count": null,
   "id": "12",
   "metadata": {},
   "outputs": [],
   "source": [
    "# Get all colors including axes, text, background colors\n",
    "all_colors = image.get_figure_colors(fig, num_colors=10, data_only=False, print_colors=False)\n",
    "\n",
    "# Access both data and decoration colors\n",
    "data_colors = all_colors['hex']['data_colors']\n",
    "decoration_colors = all_colors['hex']['decoration_colors']\n",
    " \n",
    "print(f\"Data colors: {len(data_colors)}\")\n",
    "print(f\"Decoration colors: {len(decoration_colors)}\")"
   ]
  }
 ],
 "metadata": {
  "kernelspec": {
   "display_name": "Digital_Rock_Physics",
   "language": "python",
   "name": "python3"
  },
  "language_info": {
   "codemirror_mode": {
    "name": "ipython",
    "version": 3
   },
   "file_extension": ".py",
   "mimetype": "text/x-python",
   "name": "python",
   "nbconvert_exporter": "python",
   "pygments_lexer": "ipython3",
   "version": "3.11.6"
  }
 },
 "nbformat": 4,
 "nbformat_minor": 5
}
