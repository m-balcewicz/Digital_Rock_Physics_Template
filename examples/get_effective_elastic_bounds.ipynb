{
 "cells": [
  {
   "cell_type": "code",
   "execution_count": 5,
   "metadata": {},
   "outputs": [],
   "source": [
    "import numpy as np\n",
    "from drp_template.math import bound, GPa2Pa, Pa2GPa"
   ]
  },
  {
   "cell_type": "markdown",
   "metadata": {},
   "source": [
    "Calculate the Voigt-Reuss or Hashin-Shtrikman bounds for "
   ]
  },
  {
   "cell_type": "code",
   "execution_count": 6,
   "metadata": {},
   "outputs": [
    {
     "name": "stdout",
     "output_type": "stream",
     "text": [
      "fractions: [0.27  0.584 0.146]\n"
     ]
    }
   ],
   "source": [
    "K_quartz = 36 # GPa\n",
    "U_quartz = 45 # GPa\n",
    "f_quartz = 0.8\n",
    "K_calcite = 75 # GPa\n",
    "U_calcite = 31 # GPa\n",
    "f_calcite = 0.2\n",
    "K_water = 2.2 # GPa\n",
    "U_water = 1e-20# GPa\n",
    "f_water = 0.27 # f_water is equal to porosity\n",
    "porosity = f_water\n",
    "\n",
    "fractions = np.array([porosity, (1-porosity)*f_quartz, (1-porosity)*f_calcite])\n",
    "bulk_array = GPa2Pa(np.array([K_water, K_quartz, K_calcite]))\n",
    "shear_array = GPa2Pa(np.array([U_water, U_quartz, U_calcite]))\n",
    "\n",
    "# fractions = np.array([f_quartz, f_calcite])\n",
    "# bulk_array = np.array([K_quartz, K_calcite])\n",
    "# shear_array = np.array([U_quartz, U_calcite])\n",
    "\n",
    "print(f\"fractions: {fractions}\")"
   ]
  },
  {
   "cell_type": "markdown",
   "metadata": {},
   "source": [
    "Calculate the Voigt (upper) and Reuss (lower) bounds."
   ]
  },
  {
   "cell_type": "code",
   "execution_count": 7,
   "metadata": {},
   "outputs": [
    {
     "name": "stdout",
     "output_type": "stream",
     "text": [
      "k_bulk (Voigt: upper; Reuss: lower bounds): [32.568000000000005, 7.0974254268492025]\n",
      "u (Voigt: upper; Reuss: lower bounds): [30.806, 3.703703703703703e-20]\n",
      "k_avg and u_avg (Hill average for voigt-reuss): [19.832712713424606, 15.403]\n"
     ]
    }
   ],
   "source": [
    "k_voigt, k_reuss, u_voigt, u_reuss, k_avg, u_avg = bound(type='voigt-reuss', fractions=fractions, k=bulk_array, u=shear_array)\n",
    "\n",
    "# convert Pa to GPa\n",
    "k_voigt, k_reuss, u_voigt, u_reuss, k_avg, u_avg = Pa2GPa(k_voigt, k_reuss, u_voigt, u_reuss, k_avg, u_avg)\n",
    "print('k_bulk (Voigt: upper; Reuss: lower bounds):', [k_voigt, k_reuss])\n",
    "print('u (Voigt: upper; Reuss: lower bounds):', [u_voigt, u_reuss])\n",
    "print('k_avg and u_avg (Hill average for voigt-reuss):', [k_avg, u_avg])"
   ]
  },
  {
   "cell_type": "markdown",
   "metadata": {},
   "source": [
    "Calculate the upper and lower Hashin-Shtrikman bounds."
   ]
  },
  {
   "cell_type": "code",
   "execution_count": 8,
   "metadata": {},
   "outputs": [
    {
     "name": "stdout",
     "output_type": "stream",
     "text": [
      "k_bulk (upper and lower HS bounds): [26.913814348904573, 7.0974254268492025]\n",
      "u (upper and lower HS bounds): [24.61588052450817, 7.759259259259258e-20]\n",
      "k_avg and u_avg (Simple arithmetic avg): [17.005619887876886, 12.307940262254085]\n"
     ]
    }
   ],
   "source": [
    "k_hs_upper, k_hs_lower, u_hs_upper, u_hs_lower, k_avg, u_avg = bound(type='hashin-shtrikman', fractions=fractions, k=bulk_array, u=shear_array)\n",
    "\n",
    "# convert Pa to GPa\n",
    "k_hs_upper, k_hs_lower, u_hs_upper, u_hs_lower, k_avg, u_avg = Pa2GPa(k_hs_upper, k_hs_lower, u_hs_upper, u_hs_lower, k_avg, u_avg)\n",
    "print('k_bulk (upper and lower HS bounds):', [k_hs_upper, k_hs_lower])\n",
    "print('u (upper and lower HS bounds):', [u_hs_upper, u_hs_lower])\n",
    "print('k_avg and u_avg (Simple arithmetic avg):', [k_avg, u_avg])"
   ]
  }
 ],
 "metadata": {
  "kernelspec": {
   "display_name": "Digital_Rock_Physics",
   "language": "python",
   "name": "python3"
  },
  "language_info": {
   "codemirror_mode": {
    "name": "ipython",
    "version": 3
   },
   "file_extension": ".py",
   "mimetype": "text/x-python",
   "name": "python",
   "nbconvert_exporter": "python",
   "pygments_lexer": "ipython3",
   "version": "3.11.6"
  }
 },
 "nbformat": 4,
 "nbformat_minor": 2
}
