{
 "cells": [
  {
   "cell_type": "markdown",
   "id": "62614bc72f4e346a",
   "metadata": {
    "collapsed": false
   },
   "source": [
    "# Get Histogram\n",
    "\n",
    "Import all modules:"
   ]
  },
  {
   "cell_type": "code",
   "execution_count": null,
   "id": "initial_id",
   "metadata": {
    "collapsed": true
   },
   "outputs": [],
   "source": [
    "import drp_template.input_output as io\n",
    "from drp_template.image import plot_histogram as plt_hist\n",
    "from drp_template.image import save_figure2"
   ]
  },
  {
   "cell_type": "markdown",
   "id": "929f439fa17e4aaf",
   "metadata": {
    "collapsed": false
   },
   "source": [
    "Set parameters for import uint16.raw:"
   ]
  },
  {
   "cell_type": "code",
   "execution_count": null,
   "id": "2d6f81c621982532",
   "metadata": {
    "collapsed": false
   },
   "outputs": [],
   "source": [
    "file_path = '../examples/data/raw_100cube.raw'\n",
    "dimensions = {'nz': 100, 'ny': 100, 'nx': 100}\n",
    "data = io.import_model(file_path=file_path, dtype='uint16', dimensions=dimensions)"
   ]
  },
  {
   "cell_type": "markdown",
   "id": "eedc07f318a9f46",
   "metadata": {
    "collapsed": false
   },
   "source": [
    "Plot histogram for uint16.raw and save it accordingly:"
   ]
  },
  {
   "cell_type": "code",
   "execution_count": null,
   "id": "ad6672f030977fb9",
   "metadata": {
    "collapsed": false
   },
   "outputs": [],
   "source": [
    "fig, ax = plt_hist(data, paramsfile='raw_100cube.json', title=None, log_scale='y', dark_mode=False)\n",
    "save_figure2(fig, filename='histogram_raw_100cube')"
   ]
  }
 ],
 "metadata": {
  "kernelspec": {
   "display_name": "Python 3",
   "language": "python",
   "name": "python3"
  },
  "language_info": {
   "codemirror_mode": {
    "name": "ipython",
    "version": 3
   },
   "file_extension": ".py",
   "mimetype": "text/x-python",
   "name": "python",
   "nbconvert_exporter": "python",
   "pygments_lexer": "ipython3",
   "version": "3.11.6"
  }
 },
 "nbformat": 4,
 "nbformat_minor": 5
}
