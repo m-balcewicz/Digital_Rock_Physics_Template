{
 "cells": [
  {
   "cell_type": "code",
   "execution_count": 3,
   "metadata": {},
   "outputs": [
    {
     "name": "stdout",
     "output_type": "stream",
     "text": [
      "You initial porosity is: 0.2\n",
      "      Quartz  Feldspar  Dolomite  Calcite  Porosity\n",
      "0   0.562500    0.2500  0.062500  0.12500  0.000000\n",
      "1   0.556875    0.2475  0.061875  0.12375  0.010101\n",
      "2   0.551250    0.2450  0.061250  0.12250  0.020202\n",
      "3   0.545625    0.2425  0.060625  0.12125  0.030303\n",
      "4   0.540000    0.2400  0.060000  0.12000  0.040404\n",
      "..       ...       ...       ...      ...       ...\n",
      "95  0.022500    0.0100  0.002500  0.00500  0.959596\n",
      "96  0.016875    0.0075  0.001875  0.00375  0.969697\n",
      "97  0.011250    0.0050  0.001250  0.00250  0.979798\n",
      "98  0.005625    0.0025  0.000625  0.00125  0.989899\n",
      "99  0.000000    0.0000  0.000000  0.00000  1.000000\n",
      "\n",
      "[100 rows x 5 columns]\n"
     ]
    }
   ],
   "source": [
    "import numpy as np\n",
    "import pandas as pd\n",
    "\n",
    "# The the constants\n",
    "phases = ('Quartz', 'Feldspar', 'Dolomite', 'Calcite')\n",
    "\n",
    "f_Quartz = np.array([0.45])\n",
    "f_Feldspar = np.array([0.2])\n",
    "f_Dolomite = np.array([0.05])\n",
    "f_Calcite = np.array([0.1])\n",
    "\n",
    "\n",
    "f_solid_components = np.array([f_Quartz, f_Feldspar, f_Dolomite, f_Calcite]).T\n",
    "\n",
    "porosity = np.linspace(0, 1, 100)\n",
    "porosity_values = np.round(porosity, 2)\n",
    "\n",
    "initial_porosity = 1-(np.sum(f_solid_components, axis=1))\n",
    "print(f\"You initial porosity is: {round(float(initial_porosity),2)}\")\n",
    "\n",
    "# Calculate solid fractions for each porosity value\n",
    "f_Solid_interpolated = np.zeros((np.shape(porosity_values)[0], np.shape(f_solid_components)[1]))\n",
    "\n",
    "# Find the index corresponding to the initial_porosity\n",
    "initial_index = int(initial_porosity * len(f_Solid_interpolated))\n",
    "\n",
    "f_Solid_interpolated[initial_index, :] = f_solid_components\n",
    "\n",
    "# Linear interpolation based on porosity for the rest of the rows\n",
    "for index in range(len(porosity_values)):   \n",
    "    porosity_tmp = np.round(porosity_values[index],2)        \n",
    "    f_Solid_interpolated[index, :] = (1 - porosity_tmp) * f_solid_components / np.sum(f_solid_components)\n",
    "\n",
    "# Add summation along axis=1 as a new column\n",
    "row_sums = np.sum(f_Solid_interpolated, axis=1, keepdims=True)\n",
    "f_Solid_interpolated_check = np.hstack((f_Solid_interpolated, 1-row_sums))\n",
    "\n",
    "# # Check if the sum of the normalized solid fractions is equal to 1\n",
    "column_sums = np.sum(f_Solid_interpolated_check, axis=1)\n",
    "if not np.allclose(column_sums, 1):\n",
    "    problematic_columns = np.where(~np.isclose(column_sums, 1))[0]\n",
    "    raise ValueError(f'The sum of each column + porosity must be approximately equal to 1. Problematic columns: {problematic_columns}.')\n",
    "\n",
    "# Create column names based on the length and strings of components\n",
    "column_names = [component for component in phases]\n",
    "df_result = pd.DataFrame(f_Solid_interpolated, columns=column_names)\n",
    "# Add \"Porosity\" column\n",
    "df_result['Porosity'] = porosity\n",
    "\n",
    "print(df_result)"
   ]
  },
  {
   "cell_type": "code",
   "execution_count": null,
   "metadata": {},
   "outputs": [],
   "source": []
  }
 ],
 "metadata": {
  "kernelspec": {
   "display_name": "Digital_Rock_Physics",
   "language": "python",
   "name": "python3"
  },
  "language_info": {
   "codemirror_mode": {
    "name": "ipython",
    "version": 3
   },
   "file_extension": ".py",
   "mimetype": "text/x-python",
   "name": "python",
   "nbconvert_exporter": "python",
   "pygments_lexer": "ipython3",
   "version": "3.11.6"
  }
 },
 "nbformat": 4,
 "nbformat_minor": 2
}
