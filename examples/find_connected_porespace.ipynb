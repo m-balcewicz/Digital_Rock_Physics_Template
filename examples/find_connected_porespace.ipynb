{
 "cells": [
  {
   "cell_type": "code",
   "execution_count": 38,
   "outputs": [],
   "source": [
    "from tools.drp_template.analyze import connected_porespace\n",
    "from tools.drp_template.import_export import import_raw\n",
    "from tools.drp_template.fractions_data import get_fractions\n",
    "from skimage.measure import label"
   ],
   "metadata": {
    "collapsed": false,
    "ExecuteTime": {
     "start_time": "2023-07-17T13:03:51.495732Z",
     "end_time": "2023-07-17T13:03:51.499860Z"
    }
   }
  },
  {
   "cell_type": "code",
   "execution_count": 39,
   "outputs": [
    {
     "name": "stdout",
     "output_type": "stream",
     "text": [
      "importing . . .\n",
      "+++ nice data!\n"
     ]
    }
   ],
   "source": [
    "data = import_raw('data_binary.raw', dtype='uint8', dimension=100)\n",
    "\n"
   ],
   "metadata": {
    "collapsed": false,
    "ExecuteTime": {
     "start_time": "2023-07-17T13:03:51.499033Z",
     "end_time": "2023-07-17T13:03:51.514925Z"
    }
   }
  },
  {
   "cell_type": "code",
   "execution_count": 40,
   "outputs": [
    {
     "name": "stdout",
     "output_type": "stream",
     "text": [
      "(array([[[ 1,  1,  1, ...,  1,  1,  1],\n",
      "        [ 1,  1,  1, ...,  1,  1,  1],\n",
      "        [ 1,  1,  1, ...,  1,  1,  1],\n",
      "        ...,\n",
      "        [ 1,  1,  1, ...,  1,  1,  1],\n",
      "        [ 1,  1,  1, ...,  1,  1,  1],\n",
      "        [ 1,  1,  1, ...,  1,  1,  1]],\n",
      "\n",
      "       [[ 1,  1,  1, ...,  1,  1,  1],\n",
      "        [ 1,  1,  1, ...,  1,  1,  1],\n",
      "        [ 1,  1,  1, ...,  1,  1,  1],\n",
      "        ...,\n",
      "        [ 1,  1,  1, ...,  1,  1,  1],\n",
      "        [ 1,  1,  1, ...,  1,  1,  1],\n",
      "        [ 1,  1,  1, ...,  1,  1,  1]],\n",
      "\n",
      "       [[ 1,  1,  1, ...,  1,  1,  1],\n",
      "        [ 1,  1,  1, ...,  1,  1,  1],\n",
      "        [ 1,  1,  1, ...,  1,  1,  1],\n",
      "        ...,\n",
      "        [ 1,  1,  1, ...,  1,  1,  1],\n",
      "        [ 1,  1,  1, ...,  1,  1,  1],\n",
      "        [ 1,  1,  1, ...,  1,  1,  1]],\n",
      "\n",
      "       ...,\n",
      "\n",
      "       [[ 1,  1,  1, ...,  0,  1,  1],\n",
      "        [ 1,  1,  1, ...,  1,  1,  1],\n",
      "        [ 1,  1,  1, ...,  1,  1,  1],\n",
      "        ...,\n",
      "        [ 1,  1,  1, ...,  1,  1,  1],\n",
      "        [ 1,  1,  1, ...,  1,  1,  1],\n",
      "        [ 1,  1,  1, ...,  1,  1,  1]],\n",
      "\n",
      "       [[ 1,  1,  1, ...,  0,  1,  1],\n",
      "        [ 1,  1,  1, ...,  0,  1,  1],\n",
      "        [ 1,  1,  1, ...,  1,  1,  1],\n",
      "        ...,\n",
      "        [ 1,  1,  1, ...,  1,  1,  1],\n",
      "        [ 1,  1,  1, ...,  1,  1,  1],\n",
      "        [ 1,  1,  1, ...,  1,  1,  1]],\n",
      "\n",
      "       [[ 1,  1,  1, ...,  1,  1,  1],\n",
      "        [ 1,  1,  1, ...,  1,  1,  1],\n",
      "        [23, 23, 23, ...,  1,  1,  1],\n",
      "        ...,\n",
      "        [ 1,  1,  1, ...,  1,  1, 41],\n",
      "        [ 1,  1,  1, ...,  1,  1,  1],\n",
      "        [ 1,  1,  1, ...,  1,  1,  1]]]), 45)\n"
     ]
    }
   ],
   "source": [
    "# output = connected_porespace(data)\n",
    "output = label(data, connectivity=1, return_num=True)\n",
    "print(output)\n",
    "# eff_porosity = get_fractions(output)"
   ],
   "metadata": {
    "collapsed": false,
    "ExecuteTime": {
     "start_time": "2023-07-17T13:03:51.515702Z",
     "end_time": "2023-07-17T13:03:51.547544Z"
    }
   }
  }
 ],
 "metadata": {
  "kernelspec": {
   "display_name": "Python 3",
   "language": "python",
   "name": "python3"
  },
  "language_info": {
   "codemirror_mode": {
    "name": "ipython",
    "version": 2
   },
   "file_extension": ".py",
   "mimetype": "text/x-python",
   "name": "python",
   "nbconvert_exporter": "python",
   "pygments_lexer": "ipython2",
   "version": "2.7.6"
  }
 },
 "nbformat": 4,
 "nbformat_minor": 0
}
