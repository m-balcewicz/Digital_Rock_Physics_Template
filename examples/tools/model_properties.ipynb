{
 "cells": [
  {
   "cell_type": "markdown",
   "id": "43f1a665",
   "metadata": {},
   "source": [
    "# Model Properties & Phase Analysis\n",
    "\n",
    "This notebook demonstrates two complementary functions for analyzing digital rock data:\n",
    "\n",
    "1. **`tools.get_model_properties()`** - Quick file overview and inspection\n",
    "2. **`drp_math.get_phase_fractions()`** - Detailed phase analysis with formatted output\n",
    "\n",
    "Learn when to use each function and how they work together for comprehensive data analysis."
   ]
  },
  {
   "cell_type": "code",
   "execution_count": null,
   "id": "c5b56c7c",
   "metadata": {},
   "outputs": [],
   "source": [
    "import drp_template.input_output as io\n",
    "import drp_template.image as image\n",
    "import drp_template.tools as tools\n",
    "import drp_template.math as drp_math"
   ]
  },
  {
   "cell_type": "code",
   "execution_count": null,
   "id": "2fe5dc9c",
   "metadata": {},
   "outputs": [],
   "source": [
    "## Import segmented data"
   ]
  },
  {
   "cell_type": "code",
   "execution_count": null,
   "id": "165c6add",
   "metadata": {},
   "outputs": [],
   "source": [
    "# Set file paths and dimensions\n",
    "file_path = '../data/data_segmented_uint8_sandstone_400cube.raw'\n",
    "dimensions = {'nz': 400, 'ny': 400, 'nx': 400}\n",
    "\n",
    "# Import the raw data\n",
    "# This will automatically generate a JSON parameter file with the same base name\n",
    "data = io.import_model(file_path=file_path, dtype='uint8', dimensions=dimensions)\n",
    "\n",
    "# Define parameter files\n",
    "params = 'data_segmented_uint8_sandstone_400cube.json'"
   ]
  },
  {
   "cell_type": "markdown",
   "id": "f0ef0979",
   "metadata": {},
   "source": [
    "## Define Phase Labels\n",
    "\n",
    "The imported segmented volume contains **6 distinct phases**, each represented by an integer value (0-5). To make the data more interpretable, we assign meaningful labels to each phase:\n",
    "\n",
    "| Phase Value | Material Name | Description |\n",
    "|-------------|---------------|-------------|\n",
    "| 0 | Pore | Void space/porosity |\n",
    "| 1 | Quartz | Primary mineral phase |\n",
    "| 2 | Plagioclase | Feldspar mineral |\n",
    "| 3 | Chlorite | Clay mineral |\n",
    "| 4 | Pyrite | Metallic sulfide mineral |\n",
    "| 5 | QtzBound | Quartz grain boundaries |\n",
    "\n",
    "These labels will be used in visualizations and analyses to identify each phase clearly. The label dictionary follows this format:\n",
    "\n",
    "```python\n",
    "labels = {\n",
    "    \"0\": \"Pore\",\n",
    "    \"1\": \"Quartz\",\n",
    "    \"2\": \"Plagioclase\",\n",
    "    \"3\": \"Chlorite\",\n",
    "    \"4\": \"Pyrite\",\n",
    "    \"5\": \"QtzBound\"\n",
    "}\n",
    "```"
   ]
  },
  {
   "cell_type": "code",
   "execution_count": null,
   "id": "02521d96",
   "metadata": {},
   "outputs": [],
   "source": [
    "labels =   {\n",
    "        \"0\": \"Pore\",\n",
    "        \"1\": \"Quartz\",\n",
    "        \"2\": \"Plagioclase\",\n",
    "        \"3\": \"Chlorite\",\n",
    "        \"4\": \"Pyrite\",\n",
    "        \"5\": \"QtzBound\"\n",
    "}"
   ]
  },
  {
   "cell_type": "markdown",
   "id": "0a4fb0a7",
   "metadata": {},
   "source": [
    "## Analyze Model Properties\n",
    "\n",
    "Use `get_model_properties()` to analyze the raw data file and get comprehensive statistics including:\n",
    "- File size and dimensions\n",
    "- Data type classification (segmented, grayscale, continuous)\n",
    "- Phase distribution with counts and percentages\n",
    "- When labels are provided, phase names are displayed for better readability\n",
    "\n",
    "## Quick Overview: `get_model_properties()`\n",
    "\n",
    "This function provides a **quick overview** of the file without needing to load the full data into memory (except for statistics calculation). Perfect for:\n",
    "- Initial file inspection\n",
    "- Checking dimensions and data types\n",
    "- Quick phase distribution overview\n",
    "\n",
    "The function will suggest using `get_phase_fractions()` for detailed analysis."
   ]
  },
  {
   "cell_type": "code",
   "execution_count": null,
   "id": "4b2d1f2d",
   "metadata": {},
   "outputs": [],
   "source": [
    "# Get model properties with labels for better readability\n",
    "props = tools.get_model_properties(filepath=file_path, dimensions=dimensions, labels=labels, verbose=True)"
   ]
  },
  {
   "cell_type": "markdown",
   "id": "b268e461",
   "metadata": {},
   "source": [
    "## Detailed Phase Analysis: `get_phase_fractions()`\n",
    "\n",
    "For **detailed phase analysis** with professional formatting, use `get_phase_fractions()`. This function:\n",
    "- Creates a formatted pandas DataFrame table\n",
    "- Includes footer row with totals\n",
    "- Automatically saves fractions to the parameters file\n",
    "- Handles flexible label key formats\n",
    "- Perfect for reports and detailed analysis\n",
    "### Get detailed phase analysis with formatted table\n",
    "*Note: This function requires the data to be loaded (we already have it in the 'data' variable)*\n",
    "\n",
    "## Comparison: When to Use Which Function?\n",
    "\n",
    "| Feature | `get_model_properties()` | `get_phase_fractions()` |\n",
    "|---------|-------------------------|------------------------|\n",
    "| **Purpose** | Quick file inspection | Detailed phase analysis |\n",
    "| **Requires data loaded?** | No (reads file directly) | Yes (operates on array) |\n",
    "| **Output format** | Console print | Formatted DataFrame string |\n",
    "| **Saves to params file?** | No | Yes (fractions dict) |\n",
    "| **Footer row with totals?** | No | Yes |\n",
    "| **Best for** | Initial exploration | Reports & detailed analysis |\n",
    "| **Label handling** | Inline display | Full table column |\n",
    "\n",
    "**Typical Workflow:**\n",
    "1. Use `get_model_properties()` first for quick inspection\n",
    "2. If segmented data detected, load data and use `get_phase_fractions()` for details"
   ]
  },
  {
   "cell_type": "code",
   "execution_count": null,
   "id": "563bc401",
   "metadata": {},
   "outputs": [],
   "source": [
    "table = drp_math.get_phase_fractions(data, labels=labels, paramsfile=params, log=True)"
   ]
  },
  {
   "cell_type": "code",
   "execution_count": null,
   "id": "a8805b02",
   "metadata": {},
   "outputs": [],
   "source": []
  }
 ],
 "metadata": {
  "kernelspec": {
   "display_name": "Digital_Rock_Physics",
   "language": "python",
   "name": "python3"
  },
  "language_info": {
   "codemirror_mode": {
    "name": "ipython",
    "version": 3
   },
   "file_extension": ".py",
   "mimetype": "text/x-python",
   "name": "python",
   "nbconvert_exporter": "python",
   "pygments_lexer": "ipython3",
   "version": "3.11.6"
  }
 },
 "nbformat": 4,
 "nbformat_minor": 5
}
