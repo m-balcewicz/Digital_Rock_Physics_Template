{
 "cells": [
  {
   "cell_type": "markdown",
   "id": "0",
   "metadata": {},
   "source": [
    "# Import a raw file\n",
    "This notebook demonstrates how to import a data.raw"
   ]
  },
  {
   "cell_type": "code",
   "execution_count": null,
   "id": "1",
   "metadata": {},
   "outputs": [],
   "source": [
    "import drp_template.input_output as io\n",
    "import drp_template.image as image"
   ]
  },
  {
   "cell_type": "markdown",
   "id": "2",
   "metadata": {},
   "source": [
    "## Load Grayscale Data\n",
    "\n",
    "Set the file path and dimensions for the raw uint16 data file. This example uses a 50³ voxel cube of segmented CT data.\n",
    "\n",
    "**Parameters:**\n",
    "- `raw_file_path`: Path to the raw binary file containing grayscale intensity values\n",
    "- `dimensions`: Dictionary specifying the 3D dimensions (nz, ny, nx) of the dataset\n",
    "- `dtype`: Data type of the raw file ('uint16' for 16-bit unsigned integer data)"
   ]
  },
  {
   "cell_type": "code",
   "execution_count": null,
   "id": "3",
   "metadata": {},
   "outputs": [],
   "source": [
    "# Set file paths and dimensions\n",
    "file_path = '../data/data_segmented_uint8_sandstone_400cube.raw'\n",
    "dimensions = {'nz': 400, 'ny': 400, 'nx': 400}\n",
    "\n",
    "# Import the raw data\n",
    "# This will automatically generate a JSON parameter file with the same base name\n",
    "data = io.import_model(file_path=file_path, dtype='uint8', dimensions=dimensions)\n",
    "\n",
    "# The parameter filename follows the naming convention: <base_filename>.json\n",
    "# This file stores metadata about dimensions, data type, and analysis parameters"
   ]
  },
  {
   "cell_type": "markdown",
   "id": "4",
   "metadata": {},
   "source": [
    "## Define the Parameter File\n",
    "\n",
    "After importing the data, a JSON parameter file is automatically created. This file stores metadata about your dataset including:\n",
    "- Dimensions (nx, ny, nz)\n",
    "- Data type (uint16, uint8, etc.)\n",
    "- File paths\n",
    "- Analysis parameters (thresholds, labels, etc.)\n",
    "\n",
    "**Naming Convention:** The parameter file automatically takes the same base name as your raw data file:\n",
    "- Raw file: `data_sandstone_400cube.raw`\n",
    "\n",
    "This naming convention ensures that parameter files are easily traceable to their corresponding data files."
   ]
  },
  {
   "cell_type": "code",
   "execution_count": null,
   "id": "5",
   "metadata": {},
   "outputs": [],
   "source": [
    "# Define parameter files\n",
    "params_file_raw = 'data_segmented_uint8_sandstone_400cube.json'"
   ]
  },
  {
   "cell_type": "code",
   "execution_count": null,
   "id": "6",
   "metadata": {},
   "outputs": [],
   "source": [
    "fig, ax, pcm = image.ortho_slice(data=data,\n",
    "                                 paramsfile=params_file_raw, cmap_set='gray', slice=None, plane='xy', subvolume=None, labels=None, title='slice XY', voxel_size=None, dark_mode=False, cmap_intensity=1, ax=None, show_colorbar=True)"
   ]
  }
 ],
 "metadata": {
  "kernelspec": {
   "display_name": "Digital_Rock_Physics",
   "language": "python",
   "name": "python3"
  },
  "language_info": {
   "codemirror_mode": {
    "name": "ipython",
    "version": 3
   },
   "file_extension": ".py",
   "mimetype": "text/x-python",
   "name": "python",
   "nbconvert_exporter": "python",
   "pygments_lexer": "ipython3",
   "version": "3.11.6"
  }
 },
 "nbformat": 4,
 "nbformat_minor": 5
}
